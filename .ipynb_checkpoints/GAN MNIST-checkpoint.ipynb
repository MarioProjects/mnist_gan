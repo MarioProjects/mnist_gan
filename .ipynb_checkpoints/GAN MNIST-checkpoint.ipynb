{
 "cells": [
  {
   "cell_type": "markdown",
   "metadata": {},
   "source": [
    "# GAN - MNIST\n",
    "Pytorch GAN implementation with MNIST dataset"
   ]
  },
  {
   "cell_type": "markdown",
   "metadata": {},
   "source": [
    "### Library import"
   ]
  },
  {
   "cell_type": "code",
   "execution_count": 1,
   "metadata": {},
   "outputs": [],
   "source": [
    "import matplotlib.pyplot as plt\n",
    "import matplotlib.gridspec as gridspec\n",
    "import numpy as np\n",
    "import pickle"
   ]
  },
  {
   "cell_type": "code",
   "execution_count": 2,
   "metadata": {},
   "outputs": [],
   "source": [
    "import os\n",
    "import torch\n",
    "from torch import nn, optim\n",
    "from torch.autograd.variable import Variable\n",
    "from torchvision import transforms, datasets"
   ]
  },
  {
   "cell_type": "markdown",
   "metadata": {},
   "source": [
    "### Data loading"
   ]
  },
  {
   "cell_type": "code",
   "execution_count": 3,
   "metadata": {},
   "outputs": [],
   "source": [
    "def mnist_data():\n",
    "    compose = transforms.Compose(\n",
    "        [transforms.ToTensor(),\n",
    "         # Data normalizing between -1 to 1\n",
    "         transforms.Normalize((.5, .5, .5), (.5, .5, .5))\n",
    "        ])\n",
    "    out_dir = '/home/maparla/DeepLearning/Datasets/PytorchDatasets/MNIST'\n",
    "    return datasets.MNIST(root=out_dir, train=True, transform=compose, download=True)"
   ]
  },
  {
   "cell_type": "code",
   "execution_count": 4,
   "metadata": {},
   "outputs": [],
   "source": [
    "# Call to function to load the MNIST dataset\n",
    "data = mnist_data()\n",
    "\n",
    "# Data loader creation\n",
    "data_loader = torch.utils.data.DataLoader(data, batch_size=100, shuffle=True)\n",
    "\n",
    "# Data loader number of batches per epoch\n",
    "num_batches = len(data_loader)"
   ]
  },
  {
   "cell_type": "markdown",
   "metadata": {},
   "source": [
    "### Constants"
   ]
  },
  {
   "cell_type": "code",
   "execution_count": 5,
   "metadata": {},
   "outputs": [],
   "source": [
    "LATENT_SPACE = 100"
   ]
  },
  {
   "cell_type": "code",
   "execution_count": 6,
   "metadata": {},
   "outputs": [],
   "source": [
    "IMG_WIDTH, IMG_HEIGHT, IMG_CHANNELS = 28, 28, 1"
   ]
  },
  {
   "cell_type": "markdown",
   "metadata": {},
   "source": [
    "### Utility functions"
   ]
  },
  {
   "cell_type": "code",
   "execution_count": 7,
   "metadata": {},
   "outputs": [],
   "source": [
    "def images_to_vectors(images):\n",
    "    \"\"\"\n",
    "    With this function we can transform images to vectors -> Flatten\n",
    "    \"\"\"\n",
    "    return images.view(images.size(0), IMG_WIDTH*IMG_HEIGHT*IMG_CHANNELS).type(torch.cuda.FloatTensor)"
   ]
  },
  {
   "cell_type": "code",
   "execution_count": 8,
   "metadata": {},
   "outputs": [],
   "source": [
    "def vectors_to_images(vectors):\n",
    "    \"\"\"\n",
    "    Transform vectors to images\n",
    "    \"\"\"\n",
    "    return vectors.view(vectors.size(0), IMG_CHANNELS, IMG_WIDTH, IMG_HEIGHT).type(torch.cuda.FloatTensor)"
   ]
  },
  {
   "cell_type": "code",
   "execution_count": 9,
   "metadata": {},
   "outputs": [],
   "source": [
    "def noise(samples):\n",
    "    \"\"\"\n",
    "    With this function we create 'samples' (as vectors)\n",
    "     formed by Gaussian noise with a normal distribution\n",
    "     with mean 0 and variance 1. Dimension LATENT_SPACE (the same as\n",
    "     take the generator to sample samples))\n",
    "    \"\"\"\n",
    "    return Variable(torch.randn(samples, LATENT_SPACE)).type(torch.cuda.FloatTensor)"
   ]
  },
  {
   "cell_type": "code",
   "execution_count": 10,
   "metadata": {},
   "outputs": [],
   "source": [
    "def real_data_target(samples):\n",
    "    \"\"\"\n",
    "    Function to create a vector used to assign the class of the\n",
    "     different 'samples' during training\n",
    "     Remember that 1s indicate that the sample is 'real'\n",
    "    \"\"\"\n",
    "    return Variable(torch.ones(samples, 1)).type(torch.cuda.FloatTensor)"
   ]
  },
  {
   "cell_type": "code",
   "execution_count": 11,
   "metadata": {},
   "outputs": [],
   "source": [
    "def fake_data_target(samples):\n",
    "    \"\"\"\n",
    "    Function to create a vector used to assign the class of the\n",
    "     different 'samples' during training\n",
    "     Remember that 0s indicate that the sample is 'fake'\n",
    "    \"\"\"\n",
    "    return Variable(torch.zeros(samples, 1)).type(torch.cuda.FloatTensor)"
   ]
  },
  {
   "cell_type": "code",
   "execution_count": 12,
   "metadata": {},
   "outputs": [],
   "source": [
    "def make_dir(directory):\n",
    "    try: os.makedirs(directory)\n",
    "    except: pass"
   ]
  },
  {
   "cell_type": "code",
   "execution_count": 29,
   "metadata": {},
   "outputs": [],
   "source": [
    "def save_imgs(test_images, epoch, n_batch, display=False, save=True):\n",
    "    fig=plt.figure(figsize = (7,7))\n",
    "    gs1 = gridspec.GridSpec(4, 4)\n",
    "    gs1.update(wspace=0.025, hspace=0.05) # set the spacing between axes. \n",
    "\n",
    "    for i in range(num_test_samples):\n",
    "        # i = i + 1 # grid spec indexes from 0\n",
    "        ax1 = plt.subplot(gs1[i])\n",
    "        plt.axis('off')\n",
    "        ax1.set_xticklabels([])\n",
    "        ax1.set_yticklabels([])\n",
    "        ax1.set_aspect('equal')\n",
    "\n",
    "        img = test_images.numpy()[i].reshape(28,28)\n",
    "        plt.imshow(img, cmap=\"gray\")\n",
    "\n",
    "    if display: plt.show()\n",
    "    if save:\n",
    "        fig.savefig('{}/epoch_{}_batch_{}.png'.format(IMGS_OUT_DIR, epoch, n_batch), bbox_inches='tight')\n",
    "    plt.close()"
   ]
  },
  {
   "cell_type": "markdown",
   "metadata": {},
   "source": [
    "### Networks!"
   ]
  },
  {
   "cell_type": "markdown",
   "metadata": {},
   "source": [
    "#### Discriminator"
   ]
  },
  {
   "cell_type": "code",
   "execution_count": 14,
   "metadata": {},
   "outputs": [],
   "source": [
    "class DiscriminatorNet(nn.Module):\n",
    "    \"\"\"\n",
    "    Neural network with three hidden layers that will work as a discriminator:\n",
    "       - Take as input a 'flattened' image (28x28x1 -> 784), and return\n",
    "         the probability that the image comes from the real dataset.\n",
    "         (1 -> real) (0 -> synthetic)\n",
    "    \"\"\"\n",
    "    def __init__(self):\n",
    "        super(DiscriminatorNet, self).__init__()\n",
    "        n_features = IMG_WIDTH*IMG_HEIGHT*IMG_CHANNELS # Image as vector\n",
    "        n_out = 1 # Output neurons. We only need one -> One for say 0 ('fake') or 1 ('real')\n",
    "        \n",
    "        # First hidden layer, enter n_features and we have 1024 neurons\n",
    "        self.hidden0 = nn.Sequential( \n",
    "            nn.Linear(n_features, 1024),\n",
    "            nn.LeakyReLU(0.2),\n",
    "            nn.Dropout(0.25)\n",
    "        )\n",
    "        \n",
    "        # Second hidden layer, enter 1024 neurons of the previous layer and have 512\n",
    "        self.hidden1 = nn.Sequential(\n",
    "            nn.Linear(1024, 512),\n",
    "            nn.LeakyReLU(0.2),\n",
    "            nn.Dropout(0.25)\n",
    "        )\n",
    "        \n",
    "        # Third hidden layer, enter 512 neurons of the previous layer and have 256\n",
    "        self.hidden2 = nn.Sequential(\n",
    "            nn.Linear(512, 256),\n",
    "            nn.LeakyReLU(0.2),\n",
    "            nn.Dropout(0.25)\n",
    "        )\n",
    "        \n",
    "        # Output layer, 256 neurons from the previous layer enter and we have an \n",
    "        # output neuron where the discriminator learns: 1 == Image real data; 0 == Synthetic image\n",
    "        self.out = nn.Sequential(\n",
    "            nn.Linear(256, n_out),\n",
    "            nn.Sigmoid()\n",
    "        )\n",
    "\n",
    "    def forward(self, x):\n",
    "        x = self.hidden0(x)\n",
    "        x = self.hidden1(x)\n",
    "        x = self.hidden2(x)\n",
    "        x = self.out(x)\n",
    "        return x"
   ]
  },
  {
   "cell_type": "code",
   "execution_count": 15,
   "metadata": {},
   "outputs": [],
   "source": [
    "discriminator = DiscriminatorNet().cuda()"
   ]
  },
  {
   "cell_type": "markdown",
   "metadata": {},
   "source": [
    "#### Generador"
   ]
  },
  {
   "cell_type": "code",
   "execution_count": 16,
   "metadata": {},
   "outputs": [],
   "source": [
    "class GeneratorNet(nn.Module):\n",
    "    \"\"\"\n",
    "    Neural network of three hidden layers that takes as input a latent variable \n",
    "    in a dimensionality vector 100 and returns a output vector of 784 (image of 28x28)\n",
    "    \"\"\"\n",
    "    \n",
    "    def __init__(self):\n",
    "        super(GeneratorNet, self).__init__()\n",
    "        n_features = LATENT_SPACE # Size of latent space variable\n",
    "        n_out = IMG_WIDTH*IMG_HEIGHT*IMG_CHANNELS # Output features (image 28x28)\n",
    "        \n",
    "        self.hidden0 = nn.Sequential(\n",
    "            nn.Linear(n_features, 256),\n",
    "            nn.LeakyReLU(0.2)\n",
    "        )\n",
    "        \n",
    "        self.hidden1 = nn.Sequential(            \n",
    "            nn.Linear(256, 512),\n",
    "            nn.LeakyReLU(0.2)\n",
    "        )\n",
    "        \n",
    "        self.hidden2 = nn.Sequential(\n",
    "            nn.Linear(512, 1024),\n",
    "            nn.LeakyReLU(0.2)\n",
    "        )\n",
    "        \n",
    "        # Output layer with 784 neurons that will be used to construct the 'fake' images \n",
    "        # and those that try to deceive the discriminator IMPORTANT: The Tanh function is used \n",
    "        # to normailze the output between -1 and 1, just as we have normalized the mnist data\n",
    "        self.out = nn.Sequential(\n",
    "            nn.Linear(1024, n_out),\n",
    "            nn.Tanh()\n",
    "        )\n",
    "\n",
    "    # We define the forward of the network through the different hidden layers\n",
    "    def forward(self, x):\n",
    "        x = self.hidden0(x)\n",
    "        x = self.hidden1(x)\n",
    "        x = self.hidden2(x)\n",
    "        x = self.out(x)\n",
    "        return x"
   ]
  },
  {
   "cell_type": "code",
   "execution_count": 17,
   "metadata": {},
   "outputs": [],
   "source": [
    "generator = GeneratorNet().cuda()"
   ]
  },
  {
   "cell_type": "markdown",
   "metadata": {},
   "source": [
    "#### Optimization"
   ]
  },
  {
   "cell_type": "code",
   "execution_count": 18,
   "metadata": {},
   "outputs": [],
   "source": [
    "# We will use Adam and a learning rate of 0.0002 for both networks\n",
    "discriminator_optimizer = optim.Adam(discriminator.parameters(), lr=0.0002)\n",
    "generator_optimizer = optim.Adam(generator.parameters(), lr=0.0002)"
   ]
  },
  {
   "cell_type": "code",
   "execution_count": 19,
   "metadata": {},
   "outputs": [],
   "source": [
    "# The loss function that we will use is Binary Cross Entropy Loss \n",
    "loss = nn.BCELoss().cuda()"
   ]
  },
  {
   "cell_type": "markdown",
   "metadata": {},
   "source": [
    "### Training procedure\n",
    "\n",
    "We will implement the training process of the two networks, discriminator and generator, in separate functions, where later we will include them in our algorithm and update the weights of both"
   ]
  },
  {
   "cell_type": "code",
   "execution_count": 20,
   "metadata": {},
   "outputs": [],
   "source": [
    "def train_discriminator(optimizer, real_data, fake_data):\n",
    "    # Number of samples of real_data\n",
    "    num_samples = real_data.size(0)\n",
    "    \n",
    "    # Reset the gradients\n",
    "    optimizer.zero_grad()\n",
    "    \n",
    "    # 1.1 Train on Real Data\n",
    "    prediction_real = discriminator(real_data)\n",
    "    # Calculate error and backpropagate\n",
    "    # We must learn that they are real -> 1s\n",
    "    error_real = loss(prediction_real, real_data_target(num_samples))\n",
    "    error_real.backward()\n",
    "\n",
    "    # 1.2 Train on Fake Data\n",
    "    prediction_fake = discriminator(fake_data)\n",
    "    # Calculate error and backpropagate\n",
    "    # We must learn that they are fake -> 0s\n",
    "    error_fake = loss(prediction_fake, fake_data_target(num_samples))\n",
    "    error_fake.backward()\n",
    "    \n",
    "    # 1.3 Update weights with gradients\n",
    "    optimizer.step()\n",
    "    \n",
    "    # Return error\n",
    "    return error_real + error_fake, prediction_real, prediction_fake"
   ]
  },
  {
   "cell_type": "code",
   "execution_count": 21,
   "metadata": {},
   "outputs": [],
   "source": [
    "def train_generator(optimizer, fake_data):\n",
    "    # Number os samples at fake_data\n",
    "    num_samples = fake_data.size(0)\n",
    "    \n",
    "    # Reset the gradients\n",
    "    optimizer.zero_grad()\n",
    "    \n",
    "    # Forward our fake_data through the discriminator\n",
    "    prediction = discriminator(fake_data)\n",
    "    \n",
    "    # Calculate error and backpropagate\n",
    "    # IMPORTANT -> We want the generator to learn that\n",
    "    # your samples are classified as real, so WE CALCULATE THE LOSS WITH 1S! \n",
    "    # to make the distribution get closer to generating real data\n",
    "    error = loss(prediction, real_data_target(num_samples))\n",
    "    error.backward()\n",
    "    \n",
    "    # 3. We update weights and gradients\n",
    "    optimizer.step()\n",
    "    \n",
    "    # Return error\n",
    "    return error"
   ]
  },
  {
   "cell_type": "markdown",
   "metadata": {},
   "source": [
    "### Networks Training!"
   ]
  },
  {
   "cell_type": "code",
   "execution_count": 22,
   "metadata": {},
   "outputs": [],
   "source": [
    "num_test_samples = 16 # Num samples to create at test time\n",
    "test_noise = noise(num_test_samples) # To generate always the same samples at test time"
   ]
  },
  {
   "cell_type": "code",
   "execution_count": 23,
   "metadata": {},
   "outputs": [],
   "source": [
    "IMGS_OUT_DIR = \"imgs\" # Dir to save generated images\n",
    "make_dir(IMGS_OUT_DIR)"
   ]
  },
  {
   "cell_type": "code",
   "execution_count": 24,
   "metadata": {},
   "outputs": [],
   "source": [
    "# We will save the error progress\n",
    "PROGRESS = {\"discriminator-error\": [], \"generator-error\": []}"
   ]
  },
  {
   "cell_type": "code",
   "execution_count": 25,
   "metadata": {},
   "outputs": [],
   "source": [
    "# Total number of epochs to train\n",
    "num_epochs = 225\n",
    "total_epochs = 0"
   ]
  },
  {
   "cell_type": "code",
   "execution_count": null,
   "metadata": {},
   "outputs": [
    {
     "name": "stdout",
     "output_type": "stream",
     "text": [
      "Epoch: 0 - Discriminator Error: 3.477273 - Generator Error: 0.417059\n",
      "Epoch: 1 - Discriminator Error: 0.803250 - Generator Error: 1.270255\n",
      "Epoch: 2 - Discriminator Error: 0.235429 - Generator Error: 5.096500\n",
      "Epoch: 3 - Discriminator Error: 0.464911 - Generator Error: 3.893044\n",
      "Epoch: 4 - Discriminator Error: 0.444231 - Generator Error: 3.607538\n",
      "Epoch: 5 - Discriminator Error: 0.573516 - Generator Error: 2.265320\n",
      "Epoch: 6 - Discriminator Error: 0.609447 - Generator Error: 3.065895\n",
      "Epoch: 7 - Discriminator Error: 0.555450 - Generator Error: 2.061955\n",
      "Epoch: 8 - Discriminator Error: 0.564505 - Generator Error: 2.387300\n",
      "Epoch: 9 - Discriminator Error: 0.510063 - Generator Error: 2.465295\n",
      "Epoch: 10 - Discriminator Error: 0.736215 - Generator Error: 2.379855\n",
      "Epoch: 11 - Discriminator Error: 0.516920 - Generator Error: 2.297265\n",
      "Epoch: 12 - Discriminator Error: 0.750175 - Generator Error: 1.967351\n",
      "Epoch: 13 - Discriminator Error: 0.610226 - Generator Error: 1.652119\n",
      "Epoch: 14 - Discriminator Error: 0.668087 - Generator Error: 2.998108\n",
      "Epoch: 15 - Discriminator Error: 0.843510 - Generator Error: 2.019085\n",
      "Epoch: 16 - Discriminator Error: 0.849517 - Generator Error: 2.118729\n",
      "Epoch: 17 - Discriminator Error: 0.833149 - Generator Error: 1.791811\n",
      "Epoch: 18 - Discriminator Error: 0.770519 - Generator Error: 2.593860\n",
      "Epoch: 19 - Discriminator Error: 0.872663 - Generator Error: 2.154780\n",
      "Epoch: 20 - Discriminator Error: 0.661615 - Generator Error: 2.445085\n",
      "Epoch: 21 - Discriminator Error: 0.873176 - Generator Error: 1.213808\n",
      "Epoch: 22 - Discriminator Error: 0.870952 - Generator Error: 1.432748\n",
      "Epoch: 23 - Discriminator Error: 0.854704 - Generator Error: 1.288782\n",
      "Epoch: 24 - Discriminator Error: 1.012590 - Generator Error: 1.167412\n",
      "Epoch: 25 - Discriminator Error: 0.817543 - Generator Error: 1.613602\n",
      "Epoch: 26 - Discriminator Error: 0.797943 - Generator Error: 1.663047\n",
      "Epoch: 27 - Discriminator Error: 0.882764 - Generator Error: 1.431623\n",
      "Epoch: 28 - Discriminator Error: 0.861023 - Generator Error: 1.387097\n",
      "Epoch: 29 - Discriminator Error: 1.195806 - Generator Error: 1.490803\n",
      "Epoch: 30 - Discriminator Error: 0.834717 - Generator Error: 1.612827\n",
      "Epoch: 31 - Discriminator Error: 1.125822 - Generator Error: 1.546601\n",
      "Epoch: 32 - Discriminator Error: 1.031082 - Generator Error: 1.367604\n",
      "Epoch: 33 - Discriminator Error: 1.000248 - Generator Error: 1.222242\n",
      "Epoch: 34 - Discriminator Error: 1.000075 - Generator Error: 1.459618\n",
      "Epoch: 35 - Discriminator Error: 0.784106 - Generator Error: 2.101609\n",
      "Epoch: 36 - Discriminator Error: 1.029908 - Generator Error: 1.388502\n",
      "Epoch: 37 - Discriminator Error: 1.032680 - Generator Error: 1.104735\n",
      "Epoch: 38 - Discriminator Error: 1.040767 - Generator Error: 1.576078\n",
      "Epoch: 39 - Discriminator Error: 0.983230 - Generator Error: 1.605377\n",
      "Epoch: 40 - Discriminator Error: 1.151489 - Generator Error: 1.307791\n",
      "Epoch: 41 - Discriminator Error: 1.102219 - Generator Error: 1.344783\n",
      "Epoch: 42 - Discriminator Error: 0.972160 - Generator Error: 1.737130\n",
      "Epoch: 43 - Discriminator Error: 1.069030 - Generator Error: 1.116072\n",
      "Epoch: 44 - Discriminator Error: 1.070320 - Generator Error: 1.247842\n",
      "Epoch: 45 - Discriminator Error: 0.961402 - Generator Error: 1.414159\n",
      "Epoch: 46 - Discriminator Error: 1.085885 - Generator Error: 1.243063\n",
      "Epoch: 47 - Discriminator Error: 1.125676 - Generator Error: 1.011016\n",
      "Epoch: 48 - Discriminator Error: 1.072770 - Generator Error: 1.416321\n",
      "Epoch: 49 - Discriminator Error: 1.259245 - Generator Error: 1.071925\n",
      "Epoch: 50 - Discriminator Error: 1.035487 - Generator Error: 1.300502\n",
      "Epoch: 51 - Discriminator Error: 1.364695 - Generator Error: 1.048534\n",
      "Epoch: 52 - Discriminator Error: 1.151255 - Generator Error: 1.238755\n",
      "Epoch: 53 - Discriminator Error: 1.072427 - Generator Error: 1.103756\n",
      "Epoch: 54 - Discriminator Error: 1.063617 - Generator Error: 1.035154\n",
      "Epoch: 55 - Discriminator Error: 1.101062 - Generator Error: 1.002249\n",
      "Epoch: 56 - Discriminator Error: 1.154156 - Generator Error: 1.039784\n",
      "Epoch: 57 - Discriminator Error: 0.988247 - Generator Error: 1.255445\n",
      "Epoch: 58 - Discriminator Error: 1.198688 - Generator Error: 0.951326\n",
      "Epoch: 59 - Discriminator Error: 1.089218 - Generator Error: 1.413230\n",
      "Epoch: 60 - Discriminator Error: 1.208850 - Generator Error: 0.767064\n",
      "Epoch: 61 - Discriminator Error: 1.104685 - Generator Error: 1.032084\n",
      "Epoch: 62 - Discriminator Error: 1.193194 - Generator Error: 1.067306\n",
      "Epoch: 63 - Discriminator Error: 1.089705 - Generator Error: 1.227828\n",
      "Epoch: 64 - Discriminator Error: 1.121659 - Generator Error: 1.134412\n",
      "Epoch: 65 - Discriminator Error: 1.264303 - Generator Error: 0.964874\n",
      "Epoch: 66 - Discriminator Error: 0.986436 - Generator Error: 1.391378\n",
      "Epoch: 67 - Discriminator Error: 1.248930 - Generator Error: 1.129852\n",
      "Epoch: 68 - Discriminator Error: 1.049694 - Generator Error: 1.304475\n",
      "Epoch: 69 - Discriminator Error: 1.082488 - Generator Error: 1.016186\n",
      "Epoch: 70 - Discriminator Error: 1.124631 - Generator Error: 1.050027\n",
      "Epoch: 71 - Discriminator Error: 1.226179 - Generator Error: 1.014867\n",
      "Epoch: 72 - Discriminator Error: 1.208134 - Generator Error: 0.964158\n",
      "Epoch: 73 - Discriminator Error: 1.082463 - Generator Error: 1.042927\n",
      "Epoch: 74 - Discriminator Error: 1.184235 - Generator Error: 0.898853\n",
      "Epoch: 75 - Discriminator Error: 1.185815 - Generator Error: 0.905051\n",
      "Epoch: 76 - Discriminator Error: 1.229987 - Generator Error: 1.050403\n",
      "Epoch: 77 - Discriminator Error: 1.215576 - Generator Error: 1.103456\n",
      "Epoch: 78 - Discriminator Error: 1.134707 - Generator Error: 1.067472\n",
      "Epoch: 79 - Discriminator Error: 1.262100 - Generator Error: 0.956583\n",
      "Epoch: 80 - Discriminator Error: 1.132734 - Generator Error: 1.112464\n",
      "Epoch: 81 - Discriminator Error: 1.096447 - Generator Error: 0.964137\n",
      "Epoch: 82 - Discriminator Error: 1.385343 - Generator Error: 0.864293\n",
      "Epoch: 83 - Discriminator Error: 1.209309 - Generator Error: 0.792299\n",
      "Epoch: 84 - Discriminator Error: 1.187294 - Generator Error: 1.035063\n",
      "Epoch: 85 - Discriminator Error: 1.191388 - Generator Error: 1.065966\n",
      "Epoch: 86 - Discriminator Error: 1.132293 - Generator Error: 0.879459\n",
      "Epoch: 87 - Discriminator Error: 1.328045 - Generator Error: 0.883636\n",
      "Epoch: 88 - Discriminator Error: 1.191120 - Generator Error: 1.053262\n",
      "Epoch: 89 - Discriminator Error: 1.349675 - Generator Error: 0.920535\n",
      "Epoch: 90 - Discriminator Error: 1.217880 - Generator Error: 1.378191\n",
      "Epoch: 91 - Discriminator Error: 1.277178 - Generator Error: 0.830218\n",
      "Epoch: 92 - Discriminator Error: 1.251342 - Generator Error: 1.024312\n",
      "Epoch: 93 - Discriminator Error: 1.355157 - Generator Error: 1.017376\n",
      "Epoch: 94 - Discriminator Error: 1.375320 - Generator Error: 0.846475\n",
      "Epoch: 95 - Discriminator Error: 1.394614 - Generator Error: 0.958416\n",
      "Epoch: 96 - Discriminator Error: 1.240354 - Generator Error: 0.963230\n",
      "Epoch: 97 - Discriminator Error: 1.176240 - Generator Error: 1.118088\n",
      "Epoch: 98 - Discriminator Error: 1.328450 - Generator Error: 0.876505\n",
      "Epoch: 99 - Discriminator Error: 1.239791 - Generator Error: 1.073126\n",
      "Epoch: 100 - Discriminator Error: 1.193690 - Generator Error: 1.103023\n",
      "Epoch: 101 - Discriminator Error: 1.288740 - Generator Error: 0.918187\n",
      "Epoch: 102 - Discriminator Error: 1.317359 - Generator Error: 0.876697\n",
      "Epoch: 103 - Discriminator Error: 1.249161 - Generator Error: 0.856171\n",
      "Epoch: 104 - Discriminator Error: 1.231711 - Generator Error: 0.911991\n",
      "Epoch: 105 - Discriminator Error: 1.329422 - Generator Error: 0.888883\n",
      "Epoch: 106 - Discriminator Error: 1.271238 - Generator Error: 0.959658\n",
      "Epoch: 107 - Discriminator Error: 1.225214 - Generator Error: 1.169198\n",
      "Epoch: 108 - Discriminator Error: 1.283093 - Generator Error: 0.943444\n",
      "Epoch: 109 - Discriminator Error: 1.254159 - Generator Error: 0.868350\n",
      "Epoch: 110 - Discriminator Error: 1.201399 - Generator Error: 0.974580\n",
      "Epoch: 111 - Discriminator Error: 1.261667 - Generator Error: 0.895745\n",
      "Epoch: 112 - Discriminator Error: 1.251512 - Generator Error: 0.909764\n",
      "Epoch: 113 - Discriminator Error: 1.170197 - Generator Error: 1.067961\n",
      "Epoch: 114 - Discriminator Error: 1.292490 - Generator Error: 0.863905\n",
      "Epoch: 115 - Discriminator Error: 1.311183 - Generator Error: 0.942483\n",
      "Epoch: 116 - Discriminator Error: 1.289623 - Generator Error: 0.786803\n"
     ]
    },
    {
     "name": "stdout",
     "output_type": "stream",
     "text": [
      "Epoch: 117 - Discriminator Error: 1.233705 - Generator Error: 1.175748\n",
      "Epoch: 118 - Discriminator Error: 1.357165 - Generator Error: 0.897285\n",
      "Epoch: 119 - Discriminator Error: 1.385803 - Generator Error: 0.930739\n",
      "Epoch: 120 - Discriminator Error: 1.211718 - Generator Error: 1.057282\n",
      "Epoch: 121 - Discriminator Error: 1.266784 - Generator Error: 0.990855\n",
      "Epoch: 122 - Discriminator Error: 1.246052 - Generator Error: 1.028064\n",
      "Epoch: 123 - Discriminator Error: 1.219004 - Generator Error: 1.012211\n",
      "Epoch: 124 - Discriminator Error: 1.211334 - Generator Error: 0.844801\n",
      "Epoch: 125 - Discriminator Error: 1.241542 - Generator Error: 0.994384\n",
      "Epoch: 126 - Discriminator Error: 1.401282 - Generator Error: 0.984071\n",
      "Epoch: 127 - Discriminator Error: 1.288807 - Generator Error: 1.009012\n",
      "Epoch: 128 - Discriminator Error: 1.461347 - Generator Error: 0.840248\n",
      "Epoch: 129 - Discriminator Error: 1.245142 - Generator Error: 0.973217\n",
      "Epoch: 130 - Discriminator Error: 1.227823 - Generator Error: 0.862254\n",
      "Epoch: 131 - Discriminator Error: 1.266082 - Generator Error: 0.923973\n",
      "Epoch: 132 - Discriminator Error: 1.250082 - Generator Error: 0.977597\n",
      "Epoch: 133 - Discriminator Error: 1.350177 - Generator Error: 1.053452\n",
      "Epoch: 134 - Discriminator Error: 1.301491 - Generator Error: 0.872598\n",
      "Epoch: 135 - Discriminator Error: 1.233632 - Generator Error: 1.111278\n",
      "Epoch: 136 - Discriminator Error: 1.417735 - Generator Error: 0.846205\n",
      "Epoch: 137 - Discriminator Error: 1.047240 - Generator Error: 1.085670\n",
      "Epoch: 138 - Discriminator Error: 1.205516 - Generator Error: 0.858440\n",
      "Epoch: 139 - Discriminator Error: 1.208606 - Generator Error: 0.906168\n",
      "Epoch: 140 - Discriminator Error: 1.229082 - Generator Error: 0.867766\n",
      "Epoch: 141 - Discriminator Error: 1.202952 - Generator Error: 0.968076\n",
      "Epoch: 142 - Discriminator Error: 1.269227 - Generator Error: 0.884880\n",
      "Epoch: 143 - Discriminator Error: 1.296673 - Generator Error: 0.934005\n",
      "Epoch: 144 - Discriminator Error: 1.375785 - Generator Error: 0.816145\n",
      "Epoch: 145 - Discriminator Error: 1.258168 - Generator Error: 0.941809\n",
      "Epoch: 146 - Discriminator Error: 1.148298 - Generator Error: 1.048208\n",
      "Epoch: 147 - Discriminator Error: 1.206737 - Generator Error: 0.811418\n",
      "Epoch: 148 - Discriminator Error: 1.289168 - Generator Error: 0.745851\n",
      "Epoch: 149 - Discriminator Error: 1.127023 - Generator Error: 0.915494\n",
      "Epoch: 150 - Discriminator Error: 1.321260 - Generator Error: 0.881515\n",
      "Epoch: 151 - Discriminator Error: 1.291431 - Generator Error: 0.861207\n",
      "Epoch: 152 - Discriminator Error: 1.213813 - Generator Error: 0.808797\n",
      "Epoch: 153 - Discriminator Error: 1.341909 - Generator Error: 0.791817\n",
      "Epoch: 154 - Discriminator Error: 1.166441 - Generator Error: 0.930802\n",
      "Epoch: 155 - Discriminator Error: 1.400928 - Generator Error: 0.933264\n",
      "Epoch: 156 - Discriminator Error: 1.235027 - Generator Error: 0.905477\n",
      "Epoch: 157 - Discriminator Error: 1.193603 - Generator Error: 0.930837\n",
      "Epoch: 158 - Discriminator Error: 1.412876 - Generator Error: 0.882638\n",
      "Epoch: 159 - Discriminator Error: 1.268869 - Generator Error: 0.939213\n",
      "Epoch: 160 - Discriminator Error: 1.289400 - Generator Error: 0.877779\n",
      "Epoch: 161 - Discriminator Error: 1.219262 - Generator Error: 1.033288\n",
      "Epoch: 162 - Discriminator Error: 1.331755 - Generator Error: 0.981983\n",
      "Epoch: 163 - Discriminator Error: 1.259039 - Generator Error: 0.932770\n",
      "Epoch: 164 - Discriminator Error: 1.216092 - Generator Error: 0.982790\n",
      "Epoch: 165 - Discriminator Error: 1.302439 - Generator Error: 1.158431\n",
      "Epoch: 166 - Discriminator Error: 1.305075 - Generator Error: 0.881073\n",
      "Epoch: 167 - Discriminator Error: 1.198763 - Generator Error: 0.848726\n",
      "Epoch: 168 - Discriminator Error: 1.291658 - Generator Error: 0.835565\n",
      "Epoch: 169 - Discriminator Error: 1.166500 - Generator Error: 1.063298\n",
      "Epoch: 170 - Discriminator Error: 1.197558 - Generator Error: 0.793486\n",
      "Epoch: 171 - Discriminator Error: 1.154335 - Generator Error: 0.936745\n",
      "Epoch: 172 - Discriminator Error: 1.308012 - Generator Error: 0.893401\n",
      "Epoch: 173 - Discriminator Error: 1.267072 - Generator Error: 0.913028\n",
      "Epoch: 174 - Discriminator Error: 1.208395 - Generator Error: 0.841205\n",
      "Epoch: 175 - Discriminator Error: 1.295854 - Generator Error: 0.827185\n",
      "Epoch: 176 - Discriminator Error: 1.242525 - Generator Error: 0.942118\n",
      "Epoch: 177 - Discriminator Error: 1.268526 - Generator Error: 0.940919\n",
      "Epoch: 178 - Discriminator Error: 1.463835 - Generator Error: 0.884638\n",
      "Epoch: 179 - Discriminator Error: 1.336410 - Generator Error: 0.875641\n",
      "Epoch: 180 - Discriminator Error: 1.339245 - Generator Error: 0.838297\n",
      "Epoch: 181 - Discriminator Error: 1.148666 - Generator Error: 1.077910\n",
      "Epoch: 182 - Discriminator Error: 1.219039 - Generator Error: 0.875501\n",
      "Epoch: 183 - Discriminator Error: 1.264215 - Generator Error: 0.957707\n",
      "Epoch: 184 - Discriminator Error: 1.264983 - Generator Error: 0.894035\n",
      "Epoch: 185 - Discriminator Error: 1.295949 - Generator Error: 0.877342\n",
      "Epoch: 186 - Discriminator Error: 1.309821 - Generator Error: 0.990440\n",
      "Epoch: 187 - Discriminator Error: 1.304406 - Generator Error: 0.904536\n"
     ]
    }
   ],
   "source": [
    "for epoch in range(num_epochs):\n",
    "    \n",
    "    # Let's iterate and generate mnist data batches\n",
    "    for n_batch, (real_batch,_) in enumerate(data_loader):\n",
    "        \n",
    "        # Number of data samples / batch size\n",
    "        num_samples = real_batch.size(0)\n",
    "        \n",
    "        # --------------------------------\n",
    "        # 1. -- Train the DISCRIMINATOR -- \n",
    "        # --------------------------------\n",
    "        #  -> Transform real images to vectors\n",
    "        real_data = Variable(images_to_vectors(real_batch))\n",
    "        # -> Generate fake data (with the generator. It is important use detach to make sure\n",
    "        # that gradients not goes through the generator\n",
    "        fake_data = generator(noise(num_samples)).detach()\n",
    "        # ---> Train the discriminador\n",
    "        d_error, d_pred_real, d_pred_fake = train_discriminator(discriminator_optimizer, real_data, fake_data)\n",
    "        \n",
    "        # ------------------------------\n",
    "        # 2. --- Train the GENERATOR ---\n",
    "        # ------------------------------\n",
    "        # -> Generate fake data (with the generator)\n",
    "        fake_data = generator(noise(num_samples))\n",
    "        # ---> Train the generator\n",
    "        g_error = train_generator(generator_optimizer, fake_data)\n",
    "        \n",
    "        \n",
    "        # Show/Save progress every few batches\n",
    "        if n_batch % 100 == 0:\n",
    "            test_images = vectors_to_images(generator(test_noise).detach()).cpu()\n",
    "            save_imgs(test_images, total_epochs, n_batch)\n",
    "            \n",
    "            PROGRESS[\"discriminator-error\"].append(d_error.item())\n",
    "            PROGRESS[\"generator-error\"].append(g_error.item())\n",
    "        \n",
    "    total_epochs+=1\n",
    "    print(\"Epoch: {} - Discriminator Error: {:.6f} - Generator Error: {:.6f}\".format(epoch, d_error.item(), g_error.item()))"
   ]
  },
  {
   "cell_type": "code",
   "execution_count": null,
   "metadata": {},
   "outputs": [],
   "source": [
    "f = open(\"progress.pkl\",\"wb\")\n",
    "pickle.dump(PROGRESS,f)\n",
    "f.close()"
   ]
  },
  {
   "cell_type": "code",
   "execution_count": null,
   "metadata": {},
   "outputs": [],
   "source": [
    "torch.save(generator.state_dict(), \"weights/generator_state_dict.pt\")\n",
    "torch.save(discriminator.state_dict(), \"weights/discriminator_state_dict.pt\")"
   ]
  },
  {
   "cell_type": "markdown",
   "metadata": {},
   "source": [
    "### Loading models"
   ]
  },
  {
   "cell_type": "code",
   "execution_count": 26,
   "metadata": {},
   "outputs": [],
   "source": [
    "generator.load_state_dict(torch.load(\"weights/generator_state_dict.pt\"))\n",
    "discriminator.load_state_dict(torch.load(\"weights/discriminator_state_dict.pt\"))"
   ]
  },
  {
   "cell_type": "code",
   "execution_count": 40,
   "metadata": {},
   "outputs": [
    {
     "data": {
      "image/png": "[encoded data removed]",
      "text/plain": [
       "<Figure size 504x504 with 16 Axes>"
      ]
     },
     "metadata": {
      "needs_background": "light"
     },
     "output_type": "display_data"
    }
   ],
   "source": [
    "test_noise = noise(num_test_samples) # To generate always the same samples at test time\n",
    "test_images = vectors_to_images(generator(test_noise).detach()).cpu()\n",
    "save_imgs(test_images, 0, 0, display=True, save=False)"
   ]
  },
  {
   "cell_type": "code",
   "execution_count": 41,
   "metadata": {},
   "outputs": [
    {
     "data": {
      "image/png": "[encoded data removed]",
      "text/plain": [
       "<Figure size 504x504 with 16 Axes>"
      ]
     },
     "metadata": {
      "needs_background": "light"
     },
     "output_type": "display_data"
    }
   ],
   "source": [
    "test_noise = noise(num_test_samples) # To generate always the same samples at test time\n",
    "test_images = vectors_to_images(generator(test_noise).detach()).cpu()\n",
    "save_imgs(test_images, 0, 0, display=True, save=False)"
   ]
  },
  {
   "cell_type": "code",
   "execution_count": 42,
   "metadata": {},
   "outputs": [
    {
     "data": {
      "image/png": "[encoded data removed]",
      "text/plain": [
       "<Figure size 504x504 with 16 Axes>"
      ]
     },
     "metadata": {
      "needs_background": "light"
     },
     "output_type": "display_data"
    }
   ],
   "source": [
    "test_noise = noise(num_test_samples) # To generate always the same samples at test time\n",
    "test_images = vectors_to_images(generator(test_noise).detach()).cpu()\n",
    "save_imgs(test_images, 0, 0, display=True, save=False)"
   ]
  },
  {
   "cell_type": "markdown",
   "metadata": {},
   "source": [
    "### Progress Analyze"
   ]
  },
  {
   "cell_type": "code",
   "execution_count": 43,
   "metadata": {},
   "outputs": [],
   "source": [
    "with open('progress.pkl', 'rb') as f:\n",
    "    PROGRESS = pickle.load(f)"
   ]
  },
  {
   "cell_type": "code",
   "execution_count": 69,
   "metadata": {},
   "outputs": [],
   "source": [
    "init, fin = 50, 1000"
   ]
  },
  {
   "cell_type": "code",
   "execution_count": 76,
   "metadata": {},
   "outputs": [
    {
     "data": {
      "text/plain": [
       "<matplotlib.legend.Legend at 0x7fa2963abf60>"
      ]
     },
     "execution_count": 76,
     "metadata": {},
     "output_type": "execute_result"
    },
    {
     "data": {
      "image/png": "[encoded data removed]",
      "text/plain": [
       "<Figure size 432x288 with 1 Axes>"
      ]
     },
     "metadata": {
      "needs_background": "light"
     },
     "output_type": "display_data"
    }
   ],
   "source": [
    "plt.plot(np.arange(len(PROGRESS[\"discriminator-error\"][init:fin][1::5])), PROGRESS[\"discriminator-error\"][init:fin][1::5])\n",
    "plt.plot(np.arange(len(PROGRESS[\"generator-error\"][init:fin][1::5])), PROGRESS[\"generator-error\"][init:fin][1::5])\n",
    "plt.legend([\"Discriminator Error\", \"Generator Error\"])"
   ]
  }
 ],
 "metadata": {
  "kernelspec": {
   "display_name": "Python 3",
   "language": "python",
   "name": "python3"
  },
  "language_info": {
   "codemirror_mode": {
    "name": "ipython",
    "version": 3
   },
   "file_extension": ".py",
   "mimetype": "text/x-python",
   "name": "python",
   "nbconvert_exporter": "python",
   "pygments_lexer": "ipython3",
   "version": "3.5.2"
  }
 },
 "nbformat": 4,
 "nbformat_minor": 2
}
