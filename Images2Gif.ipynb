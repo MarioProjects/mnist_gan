{
 "cells": [
  {
   "cell_type": "code",
   "execution_count": 1,
   "metadata": {},
   "outputs": [],
   "source": [
    "import imageio\n",
    "import os"
   ]
  },
  {
   "cell_type": "code",
   "execution_count": 2,
   "metadata": {},
   "outputs": [],
   "source": [
    "def imgs2gif(init_path, mid_paths, end_path, out_gif):\n",
    "    ## Creo una lista donde almacenaremos todas las imagenes leidas\n",
    "    images = []\n",
    "    \n",
    "    for mid_path in mid_paths:\n",
    "        # imageio.imread(file) creates a numpy matrix array\n",
    "        # In this case a 200 x 200 matrix for every file, since the files are 200 x 200 pixels.\n",
    "        images.append(imageio.imread(init_path+str(mid_path)+end_path))\n",
    "        \n",
    "    for i in range(20):\n",
    "        # Concateno varias veces la ultima imagen para que quede un poco 'congelada' en el utlimo frame\n",
    "        images.append(images[-1])\n",
    "\n",
    "    imageio.mimsave(out_gif, images)"
   ]
  },
  {
   "cell_type": "code",
   "execution_count": 3,
   "metadata": {},
   "outputs": [],
   "source": [
    "partial_inPath = \"data/images/\"\n",
    "midPath = \"/MNIST/_epoch_\"\n",
    "finPath = \"_batch_0.png\"\n",
    "for subdir, dirs, files in os.walk(partial_inPath):\n",
    "    all_dirs = dirs\n",
    "    break"
   ]
  },
  {
   "cell_type": "code",
   "execution_count": 4,
   "metadata": {},
   "outputs": [],
   "source": [
    "selected_epochs = [i for i in range(0, 200, 4)]"
   ]
  },
  {
   "cell_type": "code",
   "execution_count": 5,
   "metadata": {},
   "outputs": [],
   "source": [
    "for current_dir in all_dirs:\n",
    "    imgs2gif(partial_inPath+current_dir+midPath, selected_epochs, finPath, \"outGifs/\"+current_dir+\".gif\")"
   ]
  }
 ],
 "metadata": {
  "kernelspec": {
   "display_name": "Python 3",
   "language": "python",
   "name": "python3"
  },
  "language_info": {
   "codemirror_mode": {
    "name": "ipython",
    "version": 3
   },
   "file_extension": ".py",
   "mimetype": "text/x-python",
   "name": "python",
   "nbconvert_exporter": "python",
   "pygments_lexer": "ipython3",
   "version": "3.5.2"
  }
 },
 "nbformat": 4,
 "nbformat_minor": 2
}
